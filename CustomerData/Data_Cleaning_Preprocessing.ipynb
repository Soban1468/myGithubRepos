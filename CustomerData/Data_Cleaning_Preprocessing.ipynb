{
 "cells": [
  {
   "cell_type": "markdown",
   "id": "3efe7863",
   "metadata": {},
   "source": [
    "### Importing Libraries ###"
   ]
  },
  {
   "cell_type": "code",
   "execution_count": 1,
   "id": "126ba116",
   "metadata": {},
   "outputs": [],
   "source": [
    "import pandas as pd"
   ]
  },
  {
   "cell_type": "markdown",
   "id": "2c21d36f",
   "metadata": {},
   "source": [
    "### Exploring DataSet ###"
   ]
  },
  {
   "cell_type": "code",
   "execution_count": 2,
   "id": "a7aadc4d",
   "metadata": {},
   "outputs": [],
   "source": [
    "df = pd.read_csv(r\"F:\\Python codes\\machine-learning Practices\\customer_dataset.csv\")"
   ]
  },
  {
   "cell_type": "code",
   "execution_count": 3,
   "id": "ec832d9a",
   "metadata": {},
   "outputs": [
    {
     "data": {
      "text/html": [
       "<div>\n",
       "<style scoped>\n",
       "    .dataframe tbody tr th:only-of-type {\n",
       "        vertical-align: middle;\n",
       "    }\n",
       "\n",
       "    .dataframe tbody tr th {\n",
       "        vertical-align: top;\n",
       "    }\n",
       "\n",
       "    .dataframe thead th {\n",
       "        text-align: right;\n",
       "    }\n",
       "</style>\n",
       "<table border=\"1\" class=\"dataframe\">\n",
       "  <thead>\n",
       "    <tr style=\"text-align: right;\">\n",
       "      <th></th>\n",
       "      <th>customer_name</th>\n",
       "      <th>customer_id</th>\n",
       "      <th>gender</th>\n",
       "      <th>age</th>\n",
       "      <th>location</th>\n",
       "      <th>usage_history</th>\n",
       "      <th>subscription_status</th>\n",
       "      <th>churn</th>\n",
       "    </tr>\n",
       "  </thead>\n",
       "  <tbody>\n",
       "    <tr>\n",
       "      <th>0</th>\n",
       "      <td>Customer_164</td>\n",
       "      <td>1035.0</td>\n",
       "      <td>Other</td>\n",
       "      <td>65.0</td>\n",
       "      <td>London</td>\n",
       "      <td>389.915068</td>\n",
       "      <td>Inactive</td>\n",
       "      <td>0.0</td>\n",
       "    </tr>\n",
       "    <tr>\n",
       "      <th>1</th>\n",
       "      <td>Customer_29</td>\n",
       "      <td>1005.0</td>\n",
       "      <td>Female</td>\n",
       "      <td>31.0</td>\n",
       "      <td>Berlin</td>\n",
       "      <td>107.159294</td>\n",
       "      <td>NaN</td>\n",
       "      <td>0.0</td>\n",
       "    </tr>\n",
       "    <tr>\n",
       "      <th>2</th>\n",
       "      <td>Customer_7</td>\n",
       "      <td>1006.0</td>\n",
       "      <td>Female</td>\n",
       "      <td>55.0</td>\n",
       "      <td>London</td>\n",
       "      <td>110.675539</td>\n",
       "      <td>Cancelled</td>\n",
       "      <td>0.0</td>\n",
       "    </tr>\n",
       "    <tr>\n",
       "      <th>3</th>\n",
       "      <td>Customer_190</td>\n",
       "      <td>1070.0</td>\n",
       "      <td>Other</td>\n",
       "      <td>22.0</td>\n",
       "      <td>Berlin</td>\n",
       "      <td>112.556020</td>\n",
       "      <td>Active</td>\n",
       "      <td>0.0</td>\n",
       "    </tr>\n",
       "    <tr>\n",
       "      <th>4</th>\n",
       "      <td>Customer_71</td>\n",
       "      <td>1037.0</td>\n",
       "      <td>Other</td>\n",
       "      <td>20.0</td>\n",
       "      <td>Tokyo</td>\n",
       "      <td>103.365493</td>\n",
       "      <td>NaN</td>\n",
       "      <td>1.0</td>\n",
       "    </tr>\n",
       "    <tr>\n",
       "      <th>...</th>\n",
       "      <td>...</td>\n",
       "      <td>...</td>\n",
       "      <td>...</td>\n",
       "      <td>...</td>\n",
       "      <td>...</td>\n",
       "      <td>...</td>\n",
       "      <td>...</td>\n",
       "      <td>...</td>\n",
       "    </tr>\n",
       "    <tr>\n",
       "      <th>1015</th>\n",
       "      <td>NaN</td>\n",
       "      <td>1095.0</td>\n",
       "      <td>Female</td>\n",
       "      <td>34.0</td>\n",
       "      <td>Tokyo</td>\n",
       "      <td>349.224866</td>\n",
       "      <td>Cancelled</td>\n",
       "      <td>1.0</td>\n",
       "    </tr>\n",
       "    <tr>\n",
       "      <th>1016</th>\n",
       "      <td>NaN</td>\n",
       "      <td>1029.0</td>\n",
       "      <td>Female</td>\n",
       "      <td>51.0</td>\n",
       "      <td>NaN</td>\n",
       "      <td>477.880715</td>\n",
       "      <td>Active</td>\n",
       "      <td>1.0</td>\n",
       "    </tr>\n",
       "    <tr>\n",
       "      <th>1017</th>\n",
       "      <td>NaN</td>\n",
       "      <td>1021.0</td>\n",
       "      <td>Other</td>\n",
       "      <td>66.0</td>\n",
       "      <td>New York</td>\n",
       "      <td>465.342496</td>\n",
       "      <td>Cancelled</td>\n",
       "      <td>1.0</td>\n",
       "    </tr>\n",
       "    <tr>\n",
       "      <th>1018</th>\n",
       "      <td>NaN</td>\n",
       "      <td>1084.0</td>\n",
       "      <td>Male</td>\n",
       "      <td>54.0</td>\n",
       "      <td>New York</td>\n",
       "      <td>445.398836</td>\n",
       "      <td>Inactive</td>\n",
       "      <td>1.0</td>\n",
       "    </tr>\n",
       "    <tr>\n",
       "      <th>1019</th>\n",
       "      <td>NaN</td>\n",
       "      <td>1010.0</td>\n",
       "      <td>Other</td>\n",
       "      <td>36.0</td>\n",
       "      <td>Sydney</td>\n",
       "      <td>274.549395</td>\n",
       "      <td>Inactive</td>\n",
       "      <td>NaN</td>\n",
       "    </tr>\n",
       "  </tbody>\n",
       "</table>\n",
       "<p>1020 rows × 8 columns</p>\n",
       "</div>"
      ],
      "text/plain": [
       "     customer_name  customer_id  gender   age  location  usage_history  \\\n",
       "0     Customer_164       1035.0   Other  65.0    London     389.915068   \n",
       "1      Customer_29       1005.0  Female  31.0    Berlin     107.159294   \n",
       "2       Customer_7       1006.0  Female  55.0    London     110.675539   \n",
       "3     Customer_190       1070.0   Other  22.0    Berlin     112.556020   \n",
       "4      Customer_71       1037.0   Other  20.0     Tokyo     103.365493   \n",
       "...            ...          ...     ...   ...       ...            ...   \n",
       "1015           NaN       1095.0  Female  34.0     Tokyo     349.224866   \n",
       "1016           NaN       1029.0  Female  51.0       NaN     477.880715   \n",
       "1017           NaN       1021.0   Other  66.0  New York     465.342496   \n",
       "1018           NaN       1084.0    Male  54.0  New York     445.398836   \n",
       "1019           NaN       1010.0   Other  36.0    Sydney     274.549395   \n",
       "\n",
       "     subscription_status  churn  \n",
       "0               Inactive    0.0  \n",
       "1                    NaN    0.0  \n",
       "2              Cancelled    0.0  \n",
       "3                 Active    0.0  \n",
       "4                    NaN    1.0  \n",
       "...                  ...    ...  \n",
       "1015           Cancelled    1.0  \n",
       "1016              Active    1.0  \n",
       "1017           Cancelled    1.0  \n",
       "1018            Inactive    1.0  \n",
       "1019            Inactive    NaN  \n",
       "\n",
       "[1020 rows x 8 columns]"
      ]
     },
     "execution_count": 3,
     "metadata": {},
     "output_type": "execute_result"
    }
   ],
   "source": [
    "df"
   ]
  },
  {
   "cell_type": "code",
   "execution_count": 4,
   "id": "699a3933",
   "metadata": {},
   "outputs": [
    {
     "name": "stdout",
     "output_type": "stream",
     "text": [
      "<class 'pandas.core.frame.DataFrame'>\n",
      "RangeIndex: 1020 entries, 0 to 1019\n",
      "Data columns (total 8 columns):\n",
      " #   Column               Non-Null Count  Dtype  \n",
      "---  ------               --------------  -----  \n",
      " 0   customer_name        950 non-null    object \n",
      " 1   customer_id          969 non-null    float64\n",
      " 2   gender               969 non-null    object \n",
      " 3   age                  970 non-null    float64\n",
      " 4   location             969 non-null    object \n",
      " 5   usage_history        969 non-null    float64\n",
      " 6   subscription_status  968 non-null    object \n",
      " 7   churn                967 non-null    float64\n",
      "dtypes: float64(4), object(4)\n",
      "memory usage: 63.9+ KB\n"
     ]
    }
   ],
   "source": [
    "df.info()"
   ]
  },
  {
   "cell_type": "markdown",
   "id": "ecaf5f0f",
   "metadata": {},
   "source": [
    "### Handling MissingValues ###"
   ]
  },
  {
   "cell_type": "markdown",
   "id": "6e05fc60",
   "metadata": {},
   "source": [
    "### before handling missing values ###"
   ]
  },
  {
   "cell_type": "code",
   "execution_count": 5,
   "id": "4461d2dc",
   "metadata": {},
   "outputs": [
    {
     "data": {
      "text/plain": [
       "customer_name          70\n",
       "customer_id            51\n",
       "gender                 51\n",
       "age                    50\n",
       "location               51\n",
       "usage_history          51\n",
       "subscription_status    52\n",
       "churn                  53\n",
       "dtype: int64"
      ]
     },
     "execution_count": 5,
     "metadata": {},
     "output_type": "execute_result"
    }
   ],
   "source": [
    "df.isnull().sum()"
   ]
  },
  {
   "cell_type": "code",
   "execution_count": 6,
   "id": "e8859bc3",
   "metadata": {},
   "outputs": [],
   "source": [
    "df.dropna(subset=[\"customer_id\"], inplace=True)\n",
    "df.reset_index(drop=True, inplace=True)\n"
   ]
  },
  {
   "cell_type": "code",
   "execution_count": 7,
   "id": "349223a1",
   "metadata": {},
   "outputs": [],
   "source": [
    "df.dropna(subset=[\"customer_name\"], inplace=True)\n",
    "df.reset_index(drop=True, inplace=True)\n"
   ]
  },
  {
   "cell_type": "code",
   "execution_count": 8,
   "id": "7ce0e30b",
   "metadata": {},
   "outputs": [
    {
     "data": {
      "text/plain": [
       "gender\n",
       "Other     303\n",
       "Female    297\n",
       "Male      257\n",
       "Name: count, dtype: int64"
      ]
     },
     "execution_count": 8,
     "metadata": {},
     "output_type": "execute_result"
    }
   ],
   "source": [
    "df[\"gender\"].value_counts()"
   ]
  },
  {
   "cell_type": "code",
   "execution_count": 9,
   "id": "4aa0758e",
   "metadata": {},
   "outputs": [
    {
     "name": "stderr",
     "output_type": "stream",
     "text": [
      "C:\\Users\\Bs\\AppData\\Local\\Temp\\ipykernel_3436\\849631907.py:1: FutureWarning: A value is trying to be set on a copy of a DataFrame or Series through chained assignment using an inplace method.\n",
      "The behavior will change in pandas 3.0. This inplace method will never work because the intermediate object on which we are setting values always behaves as a copy.\n",
      "\n",
      "For example, when doing 'df[col].method(value, inplace=True)', try using 'df.method({col: value}, inplace=True)' or df[col] = df[col].method(value) instead, to perform the operation inplace on the original object.\n",
      "\n",
      "\n",
      "  df[\"gender\"].fillna(df[\"gender\"].mode()[0] , inplace=True)\n"
     ]
    }
   ],
   "source": [
    "df[\"gender\"].fillna(df[\"gender\"].mode()[0] , inplace=True)"
   ]
  },
  {
   "cell_type": "code",
   "execution_count": 10,
   "id": "3eb96fae",
   "metadata": {},
   "outputs": [
    {
     "name": "stderr",
     "output_type": "stream",
     "text": [
      "C:\\Users\\Bs\\AppData\\Local\\Temp\\ipykernel_3436\\1503503937.py:1: FutureWarning: A value is trying to be set on a copy of a DataFrame or Series through chained assignment using an inplace method.\n",
      "The behavior will change in pandas 3.0. This inplace method will never work because the intermediate object on which we are setting values always behaves as a copy.\n",
      "\n",
      "For example, when doing 'df[col].method(value, inplace=True)', try using 'df.method({col: value}, inplace=True)' or df[col] = df[col].method(value) instead, to perform the operation inplace on the original object.\n",
      "\n",
      "\n",
      "  df['age'].fillna(df['age'].mean(), inplace=True)\n"
     ]
    }
   ],
   "source": [
    "df['age'].fillna(df['age'].mean(), inplace=True)"
   ]
  },
  {
   "cell_type": "code",
   "execution_count": 11,
   "id": "48ae205e",
   "metadata": {},
   "outputs": [
    {
     "data": {
      "text/plain": [
       "location\n",
       "New York    164\n",
       "London      150\n",
       "Tokyo       142\n",
       "Toronto     137\n",
       "Berlin      131\n",
       "Sydney      130\n",
       "Name: count, dtype: int64"
      ]
     },
     "execution_count": 11,
     "metadata": {},
     "output_type": "execute_result"
    }
   ],
   "source": [
    "df['location'].value_counts()"
   ]
  },
  {
   "cell_type": "code",
   "execution_count": 12,
   "id": "cfea7c31",
   "metadata": {},
   "outputs": [
    {
     "name": "stderr",
     "output_type": "stream",
     "text": [
      "C:\\Users\\Bs\\AppData\\Local\\Temp\\ipykernel_3436\\4195681336.py:1: FutureWarning: A value is trying to be set on a copy of a DataFrame or Series through chained assignment using an inplace method.\n",
      "The behavior will change in pandas 3.0. This inplace method will never work because the intermediate object on which we are setting values always behaves as a copy.\n",
      "\n",
      "For example, when doing 'df[col].method(value, inplace=True)', try using 'df.method({col: value}, inplace=True)' or df[col] = df[col].method(value) instead, to perform the operation inplace on the original object.\n",
      "\n",
      "\n",
      "  df['location'].fillna(df['location'].mode()[0] , inplace=True)\n"
     ]
    }
   ],
   "source": [
    "df['location'].fillna(df['location'].mode()[0] , inplace=True)"
   ]
  },
  {
   "cell_type": "code",
   "execution_count": 13,
   "id": "d24f24af",
   "metadata": {},
   "outputs": [],
   "source": [
    "df.dropna(subset=[\"churn\" , \"subscription_status\" , \"usage_history\"], inplace=True)"
   ]
  },
  {
   "cell_type": "code",
   "execution_count": 14,
   "id": "6a502b40",
   "metadata": {},
   "outputs": [
    {
     "data": {
      "text/plain": [
       "customer_name          0\n",
       "customer_id            0\n",
       "gender                 0\n",
       "age                    0\n",
       "location               0\n",
       "usage_history          0\n",
       "subscription_status    0\n",
       "churn                  0\n",
       "dtype: int64"
      ]
     },
     "execution_count": 14,
     "metadata": {},
     "output_type": "execute_result"
    }
   ],
   "source": [
    "df.isnull().sum()"
   ]
  },
  {
   "cell_type": "markdown",
   "id": "fa8efcd4",
   "metadata": {},
   "source": [
    "### Checking for duplicates ###"
   ]
  },
  {
   "cell_type": "code",
   "execution_count": 15,
   "id": "180d50e0",
   "metadata": {},
   "outputs": [
    {
     "data": {
      "text/plain": [
       "np.int64(0)"
      ]
     },
     "execution_count": 15,
     "metadata": {},
     "output_type": "execute_result"
    }
   ],
   "source": [
    "df.duplicated().sum()"
   ]
  },
  {
   "cell_type": "markdown",
   "id": "a6a4f10b",
   "metadata": {},
   "source": [
    "### Encoding Categorical variables ###"
   ]
  },
  {
   "cell_type": "code",
   "execution_count": 16,
   "id": "3f9a3118",
   "metadata": {},
   "outputs": [],
   "source": [
    "df['gender'] = df['gender'].map({\"Other\" : 0 , \"Male\" : 1 , \"Female\" : 2})"
   ]
  },
  {
   "cell_type": "code",
   "execution_count": 17,
   "id": "3233e333",
   "metadata": {},
   "outputs": [],
   "source": [
    "df = pd.get_dummies(df, columns=[\"location\"], drop_first=True)"
   ]
  },
  {
   "cell_type": "code",
   "execution_count": 18,
   "id": "9b2aa876",
   "metadata": {},
   "outputs": [
    {
     "data": {
      "text/plain": [
       "subscription_status\n",
       "Cancelled    273\n",
       "Inactive     251\n",
       "Active       245\n",
       "Name: count, dtype: int64"
      ]
     },
     "execution_count": 18,
     "metadata": {},
     "output_type": "execute_result"
    }
   ],
   "source": [
    "df['subscription_status'].value_counts()"
   ]
  },
  {
   "cell_type": "code",
   "execution_count": 19,
   "id": "501579c3",
   "metadata": {},
   "outputs": [],
   "source": [
    "df = pd.get_dummies(df, columns=[\"subscription_status\"], prefix=\"status\")\n"
   ]
  },
  {
   "cell_type": "code",
   "execution_count": 20,
   "id": "c0ea62ec",
   "metadata": {},
   "outputs": [
    {
     "name": "stdout",
     "output_type": "stream",
     "text": [
      "<class 'pandas.core.frame.DataFrame'>\n",
      "Index: 769 entries, 0 to 901\n",
      "Data columns (total 14 columns):\n",
      " #   Column             Non-Null Count  Dtype  \n",
      "---  ------             --------------  -----  \n",
      " 0   customer_name      769 non-null    object \n",
      " 1   customer_id        769 non-null    float64\n",
      " 2   gender             769 non-null    int64  \n",
      " 3   age                769 non-null    float64\n",
      " 4   usage_history      769 non-null    float64\n",
      " 5   churn              769 non-null    float64\n",
      " 6   location_London    769 non-null    bool   \n",
      " 7   location_New York  769 non-null    bool   \n",
      " 8   location_Sydney    769 non-null    bool   \n",
      " 9   location_Tokyo     769 non-null    bool   \n",
      " 10  location_Toronto   769 non-null    bool   \n",
      " 11  status_Active      769 non-null    bool   \n",
      " 12  status_Cancelled   769 non-null    bool   \n",
      " 13  status_Inactive    769 non-null    bool   \n",
      "dtypes: bool(8), float64(4), int64(1), object(1)\n",
      "memory usage: 48.1+ KB\n"
     ]
    }
   ],
   "source": [
    "df.info()"
   ]
  },
  {
   "cell_type": "code",
   "execution_count": 21,
   "id": "22b804e9",
   "metadata": {},
   "outputs": [
    {
     "data": {
      "text/html": [
       "<div>\n",
       "<style scoped>\n",
       "    .dataframe tbody tr th:only-of-type {\n",
       "        vertical-align: middle;\n",
       "    }\n",
       "\n",
       "    .dataframe tbody tr th {\n",
       "        vertical-align: top;\n",
       "    }\n",
       "\n",
       "    .dataframe thead th {\n",
       "        text-align: right;\n",
       "    }\n",
       "</style>\n",
       "<table border=\"1\" class=\"dataframe\">\n",
       "  <thead>\n",
       "    <tr style=\"text-align: right;\">\n",
       "      <th></th>\n",
       "      <th>customer_name</th>\n",
       "      <th>customer_id</th>\n",
       "      <th>gender</th>\n",
       "      <th>age</th>\n",
       "      <th>usage_history</th>\n",
       "      <th>churn</th>\n",
       "      <th>location_London</th>\n",
       "      <th>location_New York</th>\n",
       "      <th>location_Sydney</th>\n",
       "      <th>location_Tokyo</th>\n",
       "      <th>location_Toronto</th>\n",
       "      <th>status_Active</th>\n",
       "      <th>status_Cancelled</th>\n",
       "      <th>status_Inactive</th>\n",
       "    </tr>\n",
       "  </thead>\n",
       "  <tbody>\n",
       "    <tr>\n",
       "      <th>0</th>\n",
       "      <td>Customer_164</td>\n",
       "      <td>1035.0</td>\n",
       "      <td>0</td>\n",
       "      <td>65.0</td>\n",
       "      <td>389.915068</td>\n",
       "      <td>0.0</td>\n",
       "      <td>True</td>\n",
       "      <td>False</td>\n",
       "      <td>False</td>\n",
       "      <td>False</td>\n",
       "      <td>False</td>\n",
       "      <td>False</td>\n",
       "      <td>False</td>\n",
       "      <td>True</td>\n",
       "    </tr>\n",
       "    <tr>\n",
       "      <th>2</th>\n",
       "      <td>Customer_7</td>\n",
       "      <td>1006.0</td>\n",
       "      <td>2</td>\n",
       "      <td>55.0</td>\n",
       "      <td>110.675539</td>\n",
       "      <td>0.0</td>\n",
       "      <td>True</td>\n",
       "      <td>False</td>\n",
       "      <td>False</td>\n",
       "      <td>False</td>\n",
       "      <td>False</td>\n",
       "      <td>False</td>\n",
       "      <td>True</td>\n",
       "      <td>False</td>\n",
       "    </tr>\n",
       "    <tr>\n",
       "      <th>3</th>\n",
       "      <td>Customer_190</td>\n",
       "      <td>1070.0</td>\n",
       "      <td>0</td>\n",
       "      <td>22.0</td>\n",
       "      <td>112.556020</td>\n",
       "      <td>0.0</td>\n",
       "      <td>False</td>\n",
       "      <td>False</td>\n",
       "      <td>False</td>\n",
       "      <td>False</td>\n",
       "      <td>False</td>\n",
       "      <td>True</td>\n",
       "      <td>False</td>\n",
       "      <td>False</td>\n",
       "    </tr>\n",
       "    <tr>\n",
       "      <th>5</th>\n",
       "      <td>Customer_63</td>\n",
       "      <td>1089.0</td>\n",
       "      <td>0</td>\n",
       "      <td>45.0</td>\n",
       "      <td>325.793666</td>\n",
       "      <td>1.0</td>\n",
       "      <td>False</td>\n",
       "      <td>False</td>\n",
       "      <td>False</td>\n",
       "      <td>True</td>\n",
       "      <td>False</td>\n",
       "      <td>False</td>\n",
       "      <td>False</td>\n",
       "      <td>True</td>\n",
       "    </tr>\n",
       "    <tr>\n",
       "      <th>7</th>\n",
       "      <td>Customer_36</td>\n",
       "      <td>1081.0</td>\n",
       "      <td>2</td>\n",
       "      <td>62.0</td>\n",
       "      <td>432.314965</td>\n",
       "      <td>1.0</td>\n",
       "      <td>False</td>\n",
       "      <td>False</td>\n",
       "      <td>False</td>\n",
       "      <td>True</td>\n",
       "      <td>False</td>\n",
       "      <td>False</td>\n",
       "      <td>True</td>\n",
       "      <td>False</td>\n",
       "    </tr>\n",
       "  </tbody>\n",
       "</table>\n",
       "</div>"
      ],
      "text/plain": [
       "  customer_name  customer_id  gender   age  usage_history  churn  \\\n",
       "0  Customer_164       1035.0       0  65.0     389.915068    0.0   \n",
       "2    Customer_7       1006.0       2  55.0     110.675539    0.0   \n",
       "3  Customer_190       1070.0       0  22.0     112.556020    0.0   \n",
       "5   Customer_63       1089.0       0  45.0     325.793666    1.0   \n",
       "7   Customer_36       1081.0       2  62.0     432.314965    1.0   \n",
       "\n",
       "   location_London  location_New York  location_Sydney  location_Tokyo  \\\n",
       "0             True              False            False           False   \n",
       "2             True              False            False           False   \n",
       "3            False              False            False           False   \n",
       "5            False              False            False            True   \n",
       "7            False              False            False            True   \n",
       "\n",
       "   location_Toronto  status_Active  status_Cancelled  status_Inactive  \n",
       "0             False          False             False             True  \n",
       "2             False          False              True            False  \n",
       "3             False           True             False            False  \n",
       "5             False          False             False             True  \n",
       "7             False          False              True            False  "
      ]
     },
     "execution_count": 21,
     "metadata": {},
     "output_type": "execute_result"
    }
   ],
   "source": [
    "df.head()"
   ]
  },
  {
   "cell_type": "markdown",
   "id": "d1965ead",
   "metadata": {},
   "source": [
    "### Normalizing Numeric Features ###"
   ]
  },
  {
   "cell_type": "code",
   "execution_count": 22,
   "id": "850dccc9",
   "metadata": {},
   "outputs": [],
   "source": [
    "from sklearn.preprocessing import MinMaxScaler"
   ]
  },
  {
   "cell_type": "code",
   "execution_count": 23,
   "id": "1195644b",
   "metadata": {},
   "outputs": [],
   "source": [
    "numeric_columns = [\"age\" , \"usage_history\"]\n",
    "scalar = MinMaxScaler()"
   ]
  },
  {
   "cell_type": "code",
   "execution_count": 24,
   "id": "ccfb8a0b",
   "metadata": {},
   "outputs": [],
   "source": [
    "# Normalize and assign each numeric column separately\n",
    "df[numeric_columns] = scalar.fit_transform(df[numeric_columns])"
   ]
  },
  {
   "cell_type": "code",
   "execution_count": 25,
   "id": "b9bd3e02",
   "metadata": {},
   "outputs": [],
   "source": [
    "# Convert only bool columns to int\n",
    "bool_cols = df.select_dtypes(include=bool).columns\n",
    "df[bool_cols] = df[bool_cols].astype(int)\n"
   ]
  },
  {
   "cell_type": "code",
   "execution_count": 26,
   "id": "72838247",
   "metadata": {},
   "outputs": [
    {
     "data": {
      "text/html": [
       "<div>\n",
       "<style scoped>\n",
       "    .dataframe tbody tr th:only-of-type {\n",
       "        vertical-align: middle;\n",
       "    }\n",
       "\n",
       "    .dataframe tbody tr th {\n",
       "        vertical-align: top;\n",
       "    }\n",
       "\n",
       "    .dataframe thead th {\n",
       "        text-align: right;\n",
       "    }\n",
       "</style>\n",
       "<table border=\"1\" class=\"dataframe\">\n",
       "  <thead>\n",
       "    <tr style=\"text-align: right;\">\n",
       "      <th></th>\n",
       "      <th>customer_name</th>\n",
       "      <th>customer_id</th>\n",
       "      <th>gender</th>\n",
       "      <th>age</th>\n",
       "      <th>usage_history</th>\n",
       "      <th>churn</th>\n",
       "      <th>location_London</th>\n",
       "      <th>location_New York</th>\n",
       "      <th>location_Sydney</th>\n",
       "      <th>location_Tokyo</th>\n",
       "      <th>location_Toronto</th>\n",
       "      <th>status_Active</th>\n",
       "      <th>status_Cancelled</th>\n",
       "      <th>status_Inactive</th>\n",
       "    </tr>\n",
       "  </thead>\n",
       "  <tbody>\n",
       "    <tr>\n",
       "      <th>0</th>\n",
       "      <td>Customer_164</td>\n",
       "      <td>1035.0</td>\n",
       "      <td>0</td>\n",
       "      <td>0.903846</td>\n",
       "      <td>0.782591</td>\n",
       "      <td>0.0</td>\n",
       "      <td>1</td>\n",
       "      <td>0</td>\n",
       "      <td>0</td>\n",
       "      <td>0</td>\n",
       "      <td>0</td>\n",
       "      <td>0</td>\n",
       "      <td>0</td>\n",
       "      <td>1</td>\n",
       "    </tr>\n",
       "    <tr>\n",
       "      <th>2</th>\n",
       "      <td>Customer_7</td>\n",
       "      <td>1006.0</td>\n",
       "      <td>2</td>\n",
       "      <td>0.711538</td>\n",
       "      <td>0.221271</td>\n",
       "      <td>0.0</td>\n",
       "      <td>1</td>\n",
       "      <td>0</td>\n",
       "      <td>0</td>\n",
       "      <td>0</td>\n",
       "      <td>0</td>\n",
       "      <td>0</td>\n",
       "      <td>1</td>\n",
       "      <td>0</td>\n",
       "    </tr>\n",
       "    <tr>\n",
       "      <th>3</th>\n",
       "      <td>Customer_190</td>\n",
       "      <td>1070.0</td>\n",
       "      <td>0</td>\n",
       "      <td>0.076923</td>\n",
       "      <td>0.225051</td>\n",
       "      <td>0.0</td>\n",
       "      <td>0</td>\n",
       "      <td>0</td>\n",
       "      <td>0</td>\n",
       "      <td>0</td>\n",
       "      <td>0</td>\n",
       "      <td>1</td>\n",
       "      <td>0</td>\n",
       "      <td>0</td>\n",
       "    </tr>\n",
       "    <tr>\n",
       "      <th>5</th>\n",
       "      <td>Customer_63</td>\n",
       "      <td>1089.0</td>\n",
       "      <td>0</td>\n",
       "      <td>0.519231</td>\n",
       "      <td>0.653696</td>\n",
       "      <td>1.0</td>\n",
       "      <td>0</td>\n",
       "      <td>0</td>\n",
       "      <td>0</td>\n",
       "      <td>1</td>\n",
       "      <td>0</td>\n",
       "      <td>0</td>\n",
       "      <td>0</td>\n",
       "      <td>1</td>\n",
       "    </tr>\n",
       "    <tr>\n",
       "      <th>7</th>\n",
       "      <td>Customer_36</td>\n",
       "      <td>1081.0</td>\n",
       "      <td>2</td>\n",
       "      <td>0.846154</td>\n",
       "      <td>0.867822</td>\n",
       "      <td>1.0</td>\n",
       "      <td>0</td>\n",
       "      <td>0</td>\n",
       "      <td>0</td>\n",
       "      <td>1</td>\n",
       "      <td>0</td>\n",
       "      <td>0</td>\n",
       "      <td>1</td>\n",
       "      <td>0</td>\n",
       "    </tr>\n",
       "  </tbody>\n",
       "</table>\n",
       "</div>"
      ],
      "text/plain": [
       "  customer_name  customer_id  gender       age  usage_history  churn  \\\n",
       "0  Customer_164       1035.0       0  0.903846       0.782591    0.0   \n",
       "2    Customer_7       1006.0       2  0.711538       0.221271    0.0   \n",
       "3  Customer_190       1070.0       0  0.076923       0.225051    0.0   \n",
       "5   Customer_63       1089.0       0  0.519231       0.653696    1.0   \n",
       "7   Customer_36       1081.0       2  0.846154       0.867822    1.0   \n",
       "\n",
       "   location_London  location_New York  location_Sydney  location_Tokyo  \\\n",
       "0                1                  0                0               0   \n",
       "2                1                  0                0               0   \n",
       "3                0                  0                0               0   \n",
       "5                0                  0                0               1   \n",
       "7                0                  0                0               1   \n",
       "\n",
       "   location_Toronto  status_Active  status_Cancelled  status_Inactive  \n",
       "0                 0              0                 0                1  \n",
       "2                 0              0                 1                0  \n",
       "3                 0              1                 0                0  \n",
       "5                 0              0                 0                1  \n",
       "7                 0              0                 1                0  "
      ]
     },
     "execution_count": 26,
     "metadata": {},
     "output_type": "execute_result"
    }
   ],
   "source": [
    "df.head()"
   ]
  },
  {
   "cell_type": "code",
   "execution_count": 27,
   "id": "7855d26c",
   "metadata": {},
   "outputs": [],
   "source": [
    "df.to_csv(\"clean_customers.csv.\", index=False)"
   ]
  },
  {
   "cell_type": "code",
   "execution_count": null,
   "id": "3e815f14",
   "metadata": {},
   "outputs": [],
   "source": []
  }
 ],
 "metadata": {
  "kernelspec": {
   "display_name": "Python 3",
   "language": "python",
   "name": "python3"
  },
  "language_info": {
   "codemirror_mode": {
    "name": "ipython",
    "version": 3
   },
   "file_extension": ".py",
   "mimetype": "text/x-python",
   "name": "python",
   "nbconvert_exporter": "python",
   "pygments_lexer": "ipython3",
   "version": "3.13.2"
  }
 },
 "nbformat": 4,
 "nbformat_minor": 5
}
